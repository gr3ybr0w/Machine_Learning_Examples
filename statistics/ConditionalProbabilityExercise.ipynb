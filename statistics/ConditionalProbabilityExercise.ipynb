{
  "nbformat": 4,
  "nbformat_minor": 0,
  "metadata": {
    "kernelspec": {
      "display_name": "Python 3",
      "language": "python",
      "name": "python3"
    },
    "language_info": {
      "codemirror_mode": {
        "name": "ipython",
        "version": 3
      },
      "file_extension": ".py",
      "mimetype": "text/x-python",
      "name": "python",
      "nbconvert_exporter": "python",
      "pygments_lexer": "ipython3",
      "version": "3.5.2"
    },
    "colab": {
      "name": "ConditionalProbabilityExercise.ipynb",
      "provenance": [],
      "include_colab_link": true
    }
  },
  "cells": [
    {
      "cell_type": "markdown",
      "metadata": {
        "id": "view-in-github",
        "colab_type": "text"
      },
      "source": [
        "<a href=\"https://colab.research.google.com/github/gr3ybr0w/Machine_Learning_Examples/blob/master/statistics/ConditionalProbabilityExercise.ipynb\" target=\"_parent\"><img src=\"https://colab.research.google.com/assets/colab-badge.svg\" alt=\"Open In Colab\"/></a>"
      ]
    },
    {
      "cell_type": "markdown",
      "metadata": {
        "deletable": true,
        "editable": true,
        "id": "fpJYPBVaHhoc",
        "colab_type": "text"
      },
      "source": [
        "# Conditional Probability Activity & Exercise"
      ]
    },
    {
      "cell_type": "markdown",
      "metadata": {
        "deletable": true,
        "editable": true,
        "id": "UqUcpTlpHhod",
        "colab_type": "text"
      },
      "source": [
        "Below is some code to create some fake data on how much stuff people purchase given their age range.\n",
        "\n",
        "It generates 100,000 random \"people\" and randomly assigns them as being in their 20's, 30's, 40's, 50's, 60's, or 70's.\n",
        "\n",
        "It then assigns a lower probability for young people to buy stuff.\n",
        "\n",
        "In the end, we have two Python dictionaries:\n",
        "\n",
        "\"totals\" contains the total number of people in each age group.\n",
        "\"purchases\" contains the total number of things purchased by people in each age group.\n",
        "The grand total of purchases is in totalPurchases, and we know the total number of people is 100,000.\n",
        "\n",
        "Let's run it and have a look:"
      ]
    },
    {
      "cell_type": "code",
      "metadata": {
        "deletable": true,
        "editable": true,
        "id": "PgbQlJMSHhog",
        "colab_type": "code",
        "colab": {}
      },
      "source": [
        "from numpy import random\n",
        "random.seed(0)\n",
        "\n",
        "totals = {20:0, 30:0, 40:0, 50:0, 60:0, 70:0}\n",
        "purchases = {20:0, 30:0, 40:0, 50:0, 60:0, 70:0}\n",
        "totalPurchases = 0\n",
        "for _ in range(100000):\n",
        "    ageDecade = random.choice([20, 30, 40, 50, 60, 70])\n",
        "    purchaseProbability = float(ageDecade) / 100.0\n",
        "    totals[ageDecade] += 1\n",
        "    if (random.random() < purchaseProbability):\n",
        "        totalPurchases += 1\n",
        "        purchases[ageDecade] += 1"
      ],
      "execution_count": 0,
      "outputs": []
    },
    {
      "cell_type": "code",
      "metadata": {
        "deletable": true,
        "editable": true,
        "id": "nKlD1P0iHhol",
        "colab_type": "code",
        "colab": {
          "base_uri": "https://localhost:8080/",
          "height": 34
        },
        "outputId": "b3c38286-3d47-472a-af51-a3737d4d987e"
      },
      "source": [
        "totals"
      ],
      "execution_count": 2,
      "outputs": [
        {
          "output_type": "execute_result",
          "data": {
            "text/plain": [
              "{20: 16576, 30: 16619, 40: 16632, 50: 16805, 60: 16664, 70: 16704}"
            ]
          },
          "metadata": {
            "tags": []
          },
          "execution_count": 2
        }
      ]
    },
    {
      "cell_type": "code",
      "metadata": {
        "deletable": true,
        "editable": true,
        "id": "ePq04kECHhoq",
        "colab_type": "code",
        "colab": {
          "base_uri": "https://localhost:8080/",
          "height": 34
        },
        "outputId": "61557a47-365b-4b71-e88a-0fe150408cf5"
      },
      "source": [
        "purchases"
      ],
      "execution_count": 3,
      "outputs": [
        {
          "output_type": "execute_result",
          "data": {
            "text/plain": [
              "{20: 3392, 30: 4974, 40: 6670, 50: 8319, 60: 9944, 70: 11713}"
            ]
          },
          "metadata": {
            "tags": []
          },
          "execution_count": 3
        }
      ]
    },
    {
      "cell_type": "code",
      "metadata": {
        "deletable": true,
        "editable": true,
        "id": "HavofBRzHhou",
        "colab_type": "code",
        "colab": {
          "base_uri": "https://localhost:8080/",
          "height": 34
        },
        "outputId": "96f5c7f5-d1dc-4360-f449-17138ae574e6"
      },
      "source": [
        "totalPurchases"
      ],
      "execution_count": 4,
      "outputs": [
        {
          "output_type": "execute_result",
          "data": {
            "text/plain": [
              "45012"
            ]
          },
          "metadata": {
            "tags": []
          },
          "execution_count": 4
        }
      ]
    },
    {
      "cell_type": "markdown",
      "metadata": {
        "deletable": true,
        "editable": true,
        "id": "dS2b_xYXHhoz",
        "colab_type": "text"
      },
      "source": [
        "Let's play with conditional probability.\n",
        "\n",
        "First let's compute P(E|F), where E is \"purchase\" and F is \"you're in your 30's\". The probability of someone in their 30's buying something is just the percentage of how many 30-year-olds bought something:"
      ]
    },
    {
      "cell_type": "code",
      "metadata": {
        "deletable": true,
        "editable": true,
        "id": "gn_buiShHhoz",
        "colab_type": "code",
        "colab": {
          "base_uri": "https://localhost:8080/",
          "height": 34
        },
        "outputId": "8606e691-863f-4efb-952b-6ac94293d2d1"
      },
      "source": [
        "PEF = float(purchases[30]) / float(totals[30])\n",
        "print('P(purchase | 30s): ' + str(PEF))"
      ],
      "execution_count": 5,
      "outputs": [
        {
          "output_type": "stream",
          "text": [
            "P(purchase | 30s): 0.29929598652145134\n"
          ],
          "name": "stdout"
        }
      ]
    },
    {
      "cell_type": "markdown",
      "metadata": {
        "deletable": true,
        "editable": true,
        "id": "oXFxiSMvHho4",
        "colab_type": "text"
      },
      "source": [
        "P(F) is just the probability of being 30 in this data set:"
      ]
    },
    {
      "cell_type": "code",
      "metadata": {
        "deletable": true,
        "editable": true,
        "id": "Bzu38y5BHho4",
        "colab_type": "code",
        "colab": {
          "base_uri": "https://localhost:8080/",
          "height": 34
        },
        "outputId": "01dffb9e-d8d1-467d-fd14-84fc86ec3c19"
      },
      "source": [
        "PF = float(totals[30]) / 100000.0\n",
        "print(\"P(30's): \" +  str(PF))"
      ],
      "execution_count": 6,
      "outputs": [
        {
          "output_type": "stream",
          "text": [
            "P(30's): 0.16619\n"
          ],
          "name": "stdout"
        }
      ]
    },
    {
      "cell_type": "markdown",
      "metadata": {
        "deletable": true,
        "editable": true,
        "id": "_lYriybTHho9",
        "colab_type": "text"
      },
      "source": [
        "And P(E) is the overall probability of buying something, regardless of your age:"
      ]
    },
    {
      "cell_type": "code",
      "metadata": {
        "deletable": true,
        "editable": true,
        "id": "3Sy-dGsoHho-",
        "colab_type": "code",
        "colab": {
          "base_uri": "https://localhost:8080/",
          "height": 34
        },
        "outputId": "52794ef1-4e21-465e-99f5-3a45b6bfecaf"
      },
      "source": [
        "PE = float(totalPurchases) / 100000.0\n",
        "print(\"P(Purchase):\" + str(PE))"
      ],
      "execution_count": 7,
      "outputs": [
        {
          "output_type": "stream",
          "text": [
            "P(Purchase):0.45012\n"
          ],
          "name": "stdout"
        }
      ]
    },
    {
      "cell_type": "markdown",
      "metadata": {
        "deletable": true,
        "editable": true,
        "id": "RllKtvnbHhpD",
        "colab_type": "text"
      },
      "source": [
        "If E and F were independent, then we would expect P(E | F) to be about the same as P(E). But they're not; PE is 0.45, and P(E|F) is 0.3. So, that tells us that E and F are dependent (which we know they are in this example.)\n",
        "\n",
        "What is P(E)P(F)?"
      ]
    },
    {
      "cell_type": "code",
      "metadata": {
        "deletable": true,
        "editable": true,
        "id": "RpNstFplHhpD",
        "colab_type": "code",
        "colab": {
          "base_uri": "https://localhost:8080/",
          "height": 34
        },
        "outputId": "ba0f4097-960f-474d-d98c-dea52f986c55"
      },
      "source": [
        "print(\"P(30's)P(Purchase)\" + str(PE * PF))"
      ],
      "execution_count": 8,
      "outputs": [
        {
          "output_type": "stream",
          "text": [
            "P(30's)P(Purchase)0.07480544280000001\n"
          ],
          "name": "stdout"
        }
      ]
    },
    {
      "cell_type": "markdown",
      "metadata": {
        "deletable": true,
        "editable": true,
        "id": "j2nPNnyOHhpH",
        "colab_type": "text"
      },
      "source": [
        "P(E,F) is different from P(E|F). P(E,F) would be the probability of both being in your 30's and buying something, out of the total population - not just the population of people in their 30's:"
      ]
    },
    {
      "cell_type": "code",
      "metadata": {
        "deletable": true,
        "editable": true,
        "id": "fl5LJMOzHhpI",
        "colab_type": "code",
        "colab": {
          "base_uri": "https://localhost:8080/",
          "height": 34
        },
        "outputId": "8adeb37a-4bca-4521-e5f5-205396eb4e17"
      },
      "source": [
        "print(\"P(30's, Purchase)\" + str(float(purchases[30]) / 100000.0))"
      ],
      "execution_count": 9,
      "outputs": [
        {
          "output_type": "stream",
          "text": [
            "P(30's, Purchase)0.04974\n"
          ],
          "name": "stdout"
        }
      ]
    },
    {
      "cell_type": "markdown",
      "metadata": {
        "deletable": true,
        "editable": true,
        "id": "6gwFvATNHhpO",
        "colab_type": "text"
      },
      "source": [
        "P(E,F) = P(E)P(F), and they are pretty close in this example. But because E and F are actually dependent on each other, and the randomness of the data we're working with, it's not quite the same.\n",
        "\n",
        "We can also check that P(E|F) = P(E,F)/P(F) and sure enough, it is:"
      ]
    },
    {
      "cell_type": "code",
      "metadata": {
        "deletable": true,
        "editable": true,
        "id": "wdZdW0bEHhpQ",
        "colab_type": "code",
        "colab": {
          "base_uri": "https://localhost:8080/",
          "height": 34
        },
        "outputId": "a2e36c17-ab28-4306-8aab-4e1f28f5c996"
      },
      "source": [
        "print((purchases[30] / 100000.0) / PF)"
      ],
      "execution_count": 10,
      "outputs": [
        {
          "output_type": "stream",
          "text": [
            "0.29929598652145134\n"
          ],
          "name": "stdout"
        }
      ]
    },
    {
      "cell_type": "markdown",
      "metadata": {
        "deletable": true,
        "editable": true,
        "id": "cHctXQ9mHhpV",
        "colab_type": "text"
      },
      "source": [
        "## Your Assignment"
      ]
    },
    {
      "cell_type": "markdown",
      "metadata": {
        "deletable": true,
        "editable": true,
        "id": "PWSK6ktsHhpW",
        "colab_type": "text"
      },
      "source": [
        "Modify the code above such that the purchase probability does NOT vary with age, making E and F actually independent.\n",
        "\n",
        "Then, confirm that P(E|F) is about the same as P(E), showing that the conditional probability of purchase for a given age is not any different than the a-priori probability of purchase regardless of age.\n"
      ]
    },
    {
      "cell_type": "code",
      "metadata": {
        "deletable": true,
        "editable": true,
        "id": "6hwqf0u8HhpW",
        "colab_type": "code",
        "colab": {}
      },
      "source": [
        "totals = {20:0, 30:0, 40:0, 50:0, 60:0, 70:0}\n",
        "purchases = {20:0, 30:0, 40:0, 50:0, 60:0, 70:0}\n",
        "totalPurchases = 0\n",
        "for _ in range(100000):\n",
        "    ageDecade = random.choice([20, 30, 40, 50, 60, 70])\n",
        "    purchaseProbability = 0.4\n",
        "    totals[ageDecade] += 1\n",
        "    if (random.random() < purchaseProbability):\n",
        "        totalPurchases += 1\n",
        "        purchases[ageDecade] += 1"
      ],
      "execution_count": 0,
      "outputs": []
    },
    {
      "cell_type": "markdown",
      "metadata": {
        "id": "oEff_boWKfSM",
        "colab_type": "text"
      },
      "source": [
        "Next we will compute P(E|F) for some age group, let's pick 30 year olds again:"
      ]
    },
    {
      "cell_type": "code",
      "metadata": {
        "id": "MRUYSTbjKbH_",
        "colab_type": "code",
        "colab": {
          "base_uri": "https://localhost:8080/",
          "height": 34
        },
        "outputId": "a6c152c6-55fc-4f5c-a3b0-696063573f7d"
      },
      "source": [
        "PEF = float(purchases[30]) / float(totals[30])\n",
        "print(\"P(purchase | 30s): \" + str(PEF))"
      ],
      "execution_count": 12,
      "outputs": [
        {
          "output_type": "stream",
          "text": [
            "P(purchase | 30s): 0.4053630611630009\n"
          ],
          "name": "stdout"
        }
      ]
    },
    {
      "cell_type": "markdown",
      "metadata": {
        "id": "MEcoRi4xKnNh",
        "colab_type": "text"
      },
      "source": [
        "Now we'll compute P(E)"
      ]
    },
    {
      "cell_type": "code",
      "metadata": {
        "id": "kLWxPb63Kj5e",
        "colab_type": "code",
        "colab": {
          "base_uri": "https://localhost:8080/",
          "height": 34
        },
        "outputId": "785318e0-d2a4-4997-e2ec-e88dbccb0a30"
      },
      "source": [
        "PE = float(totalPurchases) / 100000.0\n",
        "print(\"P(Purchase):\" + str(PE))"
      ],
      "execution_count": 13,
      "outputs": [
        {
          "output_type": "stream",
          "text": [
            "P(Purchase):0.40242\n"
          ],
          "name": "stdout"
        }
      ]
    },
    {
      "cell_type": "markdown",
      "metadata": {
        "id": "C-W3OYgdKvQu",
        "colab_type": "text"
      },
      "source": [
        "P(E|F) is pretty darn close to P(E), so we can say that E and F are likely indepedent variables."
      ]
    }
  ]
}